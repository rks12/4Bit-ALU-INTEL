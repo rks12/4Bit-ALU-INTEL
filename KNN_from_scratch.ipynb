{
  "nbformat": 4,
  "nbformat_minor": 0,
  "metadata": {
    "colab": {
      "name": "KNN_from_scratch.ipynb",
      "provenance": [],
      "collapsed_sections": [],
      "authorship_tag": "ABX9TyPgjEGXV+DjlaMwgzI/91bw",
      "include_colab_link": true
    },
    "kernelspec": {
      "name": "python3",
      "display_name": "Python 3"
    },
    "language_info": {
      "name": "python"
    }
  },
  "cells": [
    {
      "cell_type": "markdown",
      "metadata": {
        "id": "view-in-github",
        "colab_type": "text"
      },
      "source": [
        "<a href=\"https://colab.research.google.com/github/rks12/4Bit-ALU-INTEL/blob/main/KNN_from_scratch.ipynb\" target=\"_parent\"><img src=\"https://colab.research.google.com/assets/colab-badge.svg\" alt=\"Open In Colab\"/></a>"
      ]
    },
    {
      "cell_type": "code",
      "metadata": {
        "id": "3Ix7ZNbKV4Lt"
      },
      "source": [
        "import numpy as np\n",
        "from sklearn import datasets\n",
        "from sklearn.model_selection import train_test_split\n",
        "import matplotlib.pyplot as plt\n",
        "from matplotlib.colors import ListedColormap\n",
        "cmp= ListedColormap(['#FF0000','#00FF00','#0000FF'])\n",
        "from collections import Counter\n"
      ],
      "execution_count": 3,
      "outputs": []
    },
    {
      "cell_type": "code",
      "metadata": {
        "id": "B4r0-ZCFXPw8"
      },
      "source": [
        "iris=datasets.load_iris()\n",
        "x=iris.data\n",
        "y=iris.target\n",
        "print(iris)\n",
        "\n"
      ],
      "execution_count": null,
      "outputs": []
    },
    {
      "cell_type": "code",
      "metadata": {
        "colab": {
          "base_uri": "https://localhost:8080/"
        },
        "id": "1FX-dsM_X36t",
        "outputId": "34788709-21ac-45cb-d02d-9d20937acd8e"
      },
      "source": [
        "xtrain,xtest,ytrain,ytest= train_test_split(x,y, test_size=0.2,random_state=1234)\n",
        "print(xtrain.shape)"
      ],
      "execution_count": 5,
      "outputs": [
        {
          "output_type": "stream",
          "text": [
            "(120, 4)\n"
          ],
          "name": "stdout"
        }
      ]
    },
    {
      "cell_type": "code",
      "metadata": {
        "colab": {
          "base_uri": "https://localhost:8080/",
          "height": 268
        },
        "id": "4ioWkCqGYoz_",
        "outputId": "f79966b7-6c38-4fbc-d762-62766aecc2c2"
      },
      "source": [
        "plt.figure()\n",
        "plt.scatter(x[:,0],x[:,1],c=y,cmap=cmp,edgecolors='k',s=50)\n",
        "plt.show()"
      ],
      "execution_count": 23,
      "outputs": [
        {
          "output_type": "display_data",
          "data": {
            "image/png": "[encoded data removed]",
            "text/plain": [
              "<Figure size 432x288 with 1 Axes>"
            ]
          },
          "metadata": {
            "tags": [],
            "needs_background": "light"
          }
        }
      ]
    },
    {
      "cell_type": "code",
      "metadata": {
        "id": "TuqvzbwpYUDp"
      },
      "source": [
        "def euclid_dis(x1,x2):\n",
        "    return np.sqrt(np.sum((x1-x2)**2))"
      ],
      "execution_count": 7,
      "outputs": []
    },
    {
      "cell_type": "code",
      "metadata": {
        "colab": {
          "base_uri": "https://localhost:8080/"
        },
        "id": "Smr-cLi7Y0sj",
        "outputId": "a1cf4dea-f3a5-4da2-f8e6-92caefcbfb33"
      },
      "source": [
        "p=euclid_dis(3,4)\n",
        "print(p)"
      ],
      "execution_count": 8,
      "outputs": [
        {
          "output_type": "stream",
          "text": [
            "1.0\n"
          ],
          "name": "stdout"
        }
      ]
    },
    {
      "cell_type": "code",
      "metadata": {
        "id": "HTb52dB9ZWfk"
      },
      "source": [
        "class knn:\n",
        "    def __init__(self,k=3):\n",
        "        self.k=k\n",
        "    def fit(self,x,y):\n",
        "        self.xtrain=x    # saving test samples so that we can use them latter\n",
        "        self.ytrain=y\n",
        "    def predict(self,x):\n",
        "        predicted_labels=[self.predict2(X) for X in x ]\n",
        "        print(type(predicted_labels))\n",
        "        return np.array(predicted_labels) \n",
        "    def predict2(self,x ):\n",
        "        dis= [euclid_dis(x,Xtrain) for Xtrain in self.xtrain]   # so here x is actually data of xtest\n",
        "        print(\"dis=\",dis[:self.k])\n",
        "        kindex= np.argsort(dis)[:self.k]\n",
        "        print(\"kindex=\",ytrain[kindex])\n",
        "        knear=[self.ytrain[i] for i in kindex]\n",
        "        print(\"knear=\",knear)\n",
        "        common= Counter(knear).most_common()\n",
        "        #print(common)\n",
        "        return common[0][0]"
      ],
      "execution_count": 20,
      "outputs": []
    },
    {
      "cell_type": "code",
      "metadata": {
        "id": "jcEgYEIc0d_I"
      },
      "source": [
        "clf= knn(k=3)\n",
        "clf.fit(xtrain,ytrain)\n",
        "prediction=clf.predict(xtest)\n",
        "print(prediction)\n"
      ],
      "execution_count": null,
      "outputs": []
    },
    {
      "cell_type": "code",
      "metadata": {
        "id": "-EbHM-RRf96y"
      },
      "source": [
        "# example\n",
        "a=[1,1,1,2,2,3,3,3,3,4,4,5]\n",
        "common= Counter(a).most_common()\n",
        "print(common[0][0])"
      ],
      "execution_count": null,
      "outputs": []
    },
    {
      "cell_type": "code",
      "metadata": {
        "id": "olcgUncw41HV"
      },
      "source": [
        "print(ytest)"
      ],
      "execution_count": null,
      "outputs": []
    },
    {
      "cell_type": "code",
      "metadata": {
        "id": "SrX5r5-X2kJB"
      },
      "source": [
        "ac=np.sum(prediction==ytest)/len(ytest)\n",
        "print(ac)"
      ],
      "execution_count": null,
      "outputs": []
    },
    {
      "cell_type": "code",
      "metadata": {
        "id": "biBhAVGGaC2j"
      },
      "source": [
        "plt.figure()\n",
        "plt.scatter(xtest[:,0],xtest[:,1],c=prediction,cmap=cmp,edgecolors='k',s=50)\n",
        "plt.show() "
      ],
      "execution_count": null,
      "outputs": []
    },
    {
      "cell_type": "code",
      "metadata": {
        "id": "InFfCdgUdyGI"
      },
      "source": [
        ""
      ],
      "execution_count": 14,
      "outputs": []
    }
  ]
}